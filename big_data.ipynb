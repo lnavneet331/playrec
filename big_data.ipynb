{
 "cells": [
  {
   "cell_type": "code",
   "execution_count": null,
   "metadata": {},
   "outputs": [],
   "source": [
    "import requests\n",
    "\n",
    "client_id = \"client_id\"\n",
    "client_secret = 'client_secret'\n",
    "\n",
    "auth_url = 'https://accounts.spotify.com/api/token'\n",
    "data = {\n",
    "    'grant_type': 'client_credentials',\n",
    "    'client_id': client_id,\n",
    "    'client_secret': client_secret,\n",
    "}\n",
    "\n",
    "auth_response = requests.post(auth_url, data=data)\n",
    "access_token = auth_response.json().get('access_token')\n",
    "access_token"
   ]
  },
  {
   "cell_type": "code",
   "execution_count": null,
   "metadata": {},
   "outputs": [],
   "source": [
    "import csv\n",
    "import requests\n",
    "\n",
    "# Set up your access token\n",
    "access_token = access_token\n",
    "\n",
    "# Set up the API endpoint\n",
    "endpoint = \"https://api.spotify.com/v1/search\"\n",
    "\n",
    "# Set up the query parameters\n",
    "query_params = {\n",
    "    \"q\": \"genre:'Romantic'\",\n",
    "    \"type\": \"track\",\n",
    "    \"limit\": 50  # Adjust the limit as per your needs\n",
    "}\n",
    "\n",
    "# Set up the request headers with the access token\n",
    "headers = {\n",
    "    \"Authorization\": f\"Bearer {access_token}\"\n",
    "}\n",
    "\n",
    "# Send the initial GET request to the Spotify API\n",
    "response = requests.get(endpoint, params=query_params, headers=headers)\n",
    "\n",
    "# Parse the response JSON\n",
    "response_json = response.json()\n",
    "print(response_json)\n",
    "# Extract the relevant data from the response\n",
    "tracks = response_json[\"tracks\"][\"items\"]\n",
    "\n",
    "# Open the CSV file in write mode\n",
    "with open(\"songs.csv\", mode=\"w\", newline=\"\", encoding=\"utf-8\") as file:\n",
    "    writer = csv.writer(file)\n",
    "\n",
    "    # Write the header row\n",
    "    writer.writerow([\"Song Name\", \"Artist(s)\", \"Album\"])\n",
    "\n",
    "    # Write the song details to the CSV file\n",
    "    for track in tracks:\n",
    "        song_name = track[\"name\"]\n",
    "        artists = \", \".join([artist[\"name\"] for artist in track[\"artists\"]])\n",
    "        album_name = track[\"album\"][\"name\"]\n",
    "        writer.writerow([song_name, artists, album_name])\n",
    "\n",
    "# Check if there are more pages of results\n",
    "while response_json[\"tracks\"][\"next\"]:\n",
    "    next_url = response_json[\"tracks\"][\"next\"]\n",
    "\n",
    "    # Send the next GET request to the Spotify API for the next page\n",
    "    response = requests.get(next_url, headers=headers)\n",
    "\n",
    "    # Parse the response JSON\n",
    "    response_json = response.json()\n",
    "\n",
    "    # Extract the relevant data from the response\n",
    "    tracks = response_json[\"tracks\"][\"items\"]\n",
    "\n",
    "    # Append the song details to the CSV file\n",
    "    with open(\"songs.csv\", mode=\"a\", newline=\"\", encoding=\"utf-8\") as file:\n",
    "        writer = csv.writer(file)\n",
    "        for track in tracks:\n",
    "            song_name = track[\"name\"]\n",
    "            artists = \", \".join([artist[\"name\"] for artist in track[\"artists\"]])\n",
    "            album_name = track[\"album\"][\"name\"]\n",
    "            writer.writerow([song_name, artists, album_name])\n"
   ]
  },
  {
   "cell_type": "code",
   "execution_count": null,
   "metadata": {},
   "outputs": [],
   "source": [
    "import pandas as pd\n",
    "df = pd.read_csv('songs.csv', encoding= 'unicode_escape')\n",
    "\n",
    "df.head()"
   ]
  },
  {
   "cell_type": "code",
   "execution_count": null,
   "metadata": {},
   "outputs": [],
   "source": [
    "df.info()"
   ]
  },
  {
   "cell_type": "code",
   "execution_count": null,
   "metadata": {},
   "outputs": [],
   "source": [
    "df = df.drop_duplicates(subset=['Song Name', 'Artist'], keep='first')\n",
    "df.info()"
   ]
  },
  {
   "cell_type": "code",
   "execution_count": null,
   "metadata": {},
   "outputs": [],
   "source": [
    "df.to_csv('love_songs.csv', index=False)"
   ]
  },
  {
   "cell_type": "code",
   "execution_count": null,
   "metadata": {},
   "outputs": [],
   "source": [
    "def get_song_details(access_token, song_name, artist, album):\n",
    "    search_url = 'https://api.spotify.com/v1/search'\n",
    "    headers = {\n",
    "        'Authorization': 'Bearer ' + access_token\n",
    "    }\n",
    "    params = {\n",
    "        'q': f'track:\"{song_name}\" artist:\"{artist}\" album:\"{album}\"',\n",
    "        'type': 'track',\n",
    "        'limit': 1\n",
    "    }\n",
    "    response = requests.get(search_url, headers=headers, params=params)\n",
    "    response_data = response.json()\n",
    "    print(response_data)\n",
    "    return response_data['tracks']['items'][0] if response_data['tracks']['items'] else None\n"
   ]
  },
  {
   "cell_type": "code",
   "execution_count": null,
   "metadata": {},
   "outputs": [],
   "source": [
    "input_file = 'love_songs.csv'\n",
    "output_file = 'love_songs_with_details.csv'\n",
    "\n",
    "# Open the input and output files\n",
    "with open(input_file, 'r') as csv_file, open(output_file, 'w', newline='') as output_csv:\n",
    "    reader = csv.DictReader(csv_file)\n",
    "    fieldnames = reader.fieldnames + ['spotify_id', 'duration_ms', 'popularity']\n",
    "    writer = csv.DictWriter(output_csv, fieldnames=fieldnames)\n",
    "    writer.writeheader()\n",
    "\n",
    "    # Get the access token\n",
    "\n",
    "    # Iterate over each song in the input file\n",
    "    for row in reader:\n",
    "        song_name = row['Song Name']\n",
    "        artist = row['Artist']\n",
    "        album = row['Album']\n",
    "\n",
    "        # Get the song details from Spotify API\n",
    "        song_details = get_song_details(access_token, song_name, artist, album)\n",
    "\n",
    "        if song_details:\n",
    "            # Extract the relevant details\n",
    "            spotify_id = song_details['id']\n",
    "            duration_ms = song_details['duration_ms']\n",
    "            popularity = song_details['popularity']\n",
    "\n",
    "            # Write the updated row to the output file\n",
    "            row['spotify_id'] = spotify_id\n",
    "            row['duration_ms'] = duration_ms\n",
    "            row['popularity'] = popularity\n",
    "            writer.writerow(row)\n"
   ]
  },
  {
   "cell_type": "code",
   "execution_count": null,
   "metadata": {},
   "outputs": [],
   "source": [
    "def get_audio_features(access_token, track_id):\n",
    "    audio_features_url = f'https://api.spotify.com/v1/audio-features/{track_id}'\n",
    "    headers = {\n",
    "        'Authorization': 'Bearer ' + access_token\n",
    "    }\n",
    "    response = requests.get(audio_features_url, headers=headers)\n",
    "    response_data = response.json()\n",
    "    return response_data\n"
   ]
  },
  {
   "cell_type": "code",
   "execution_count": null,
   "metadata": {},
   "outputs": [],
   "source": [
    "input_file = 'love_songs_with_details.csv'\n",
    "output_file = 'love_songs_with_audio_features.csv'\n",
    "\n",
    "# Open the input and output files\n",
    "with open(input_file, 'r') as csv_file, open(output_file, 'w', newline='') as output_csv:\n",
    "    reader = csv.DictReader(csv_file)\n",
    "    fieldnames = reader.fieldnames + ['acousticness', 'instrumentalness', 'liveness', 'loudness', 'danceability', 'energy', 'tempo', 'valence']\n",
    "    writer = csv.DictWriter(output_csv, fieldnames=fieldnames)\n",
    "    writer.writeheader()\n",
    "\n",
    "\n",
    "    # Iterate over each song in the input file\n",
    "    for row in reader:\n",
    "        song_id = row['spotify_id']\n",
    "\n",
    "        # Get the audio features from Spotify API\n",
    "        audio_features = get_audio_features(access_token, song_id)\n",
    "\n",
    "        # Extract the relevant audio features\n",
    "        acousticness = audio_features['acousticness']\n",
    "        instrumentalness = audio_features['instrumentalness']\n",
    "        liveness = audio_features['liveness']\n",
    "        loudness = audio_features['loudness']\n",
    "        danceability = audio_features['danceability']\n",
    "        energy = audio_features['energy']\n",
    "        tempo = audio_features['tempo']\n",
    "        valence = audio_features['valence']\n",
    "\n",
    "        # Update the row with the audio features\n",
    "        row['acousticness'] = acousticness\n",
    "        row['instrumentalness'] = instrumentalness\n",
    "        row['liveness'] = liveness\n",
    "        row['loudness'] = loudness\n",
    "        row['danceability'] = danceability\n",
    "        row['energy'] = energy\n",
    "        row['tempo'] = tempo\n",
    "        row['valence'] = valence\n",
    "\n",
    "        # Write the updated row to the output file\n",
    "        writer.writerow(row)\n"
   ]
  },
  {
   "cell_type": "code",
   "execution_count": null,
   "metadata": {},
   "outputs": [],
   "source": [
    "import pickle\n",
    "loaded_model = pickle.load(open('rf_model.sav', 'rb'))\n",
    "\n",
    "df = pd.read_csv('love_songs_with_audio_features.csv', encoding= 'unicode_escape')\n",
    "df = df.drop(['spotify_id', 'Artist', 'Album', 'Song Name'], axis=1)\n",
    "result = loaded_model.predict(df)\n",
    "\n",
    "#add the result to the dataframe\n",
    "df['result'] = result"
   ]
  },
  {
   "cell_type": "code",
   "execution_count": null,
   "metadata": {},
   "outputs": [],
   "source": [
    "df"
   ]
  },
  {
   "cell_type": "code",
   "execution_count": null,
   "metadata": {},
   "outputs": [],
   "source": [
    "df.to_csv(\"big_train.csv\", index=False)"
   ]
  },
  {
   "cell_type": "code",
   "execution_count": null,
   "metadata": {},
   "outputs": [],
   "source": []
  }
 ],
 "metadata": {
  "kernelspec": {
   "display_name": "Python 3",
   "language": "python",
   "name": "python3"
  },
  "language_info": {
   "codemirror_mode": {
    "name": "ipython",
    "version": 3
   },
   "file_extension": ".py",
   "mimetype": "text/x-python",
   "name": "python",
   "nbconvert_exporter": "python",
   "pygments_lexer": "ipython3",
   "version": "3.10.7"
  },
  "orig_nbformat": 4
 },
 "nbformat": 4,
 "nbformat_minor": 2
}
